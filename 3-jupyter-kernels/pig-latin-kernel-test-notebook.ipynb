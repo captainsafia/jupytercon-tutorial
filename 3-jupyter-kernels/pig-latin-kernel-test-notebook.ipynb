{
 "cells": [
  {
   "cell_type": "code",
   "execution_count": 1,
   "metadata": {},
   "outputs": [
    {
     "name": "stdout",
     "output_type": "stream",
     "text": [
      "one orning,may henway regorgay amsasay okeway romfay roubledtay reams,day ehay oundfay imselfhay ransformedtay in ishay edbay into a orriblehay ermin.vay"
     ]
    }
   ],
   "source": [
    "One morning, when Gregor Samsa woke from troubled dreams, he found himself transformed in his bed into a horrible vermin."
   ]
  },
  {
   "cell_type": "code",
   "execution_count": 2,
   "metadata": {},
   "outputs": [
    {
     "name": "stdout",
     "output_type": "stream",
     "text": [
      "ehay aylay on ishay armour-like ack,bay and if ehay iftedlay ishay eadhay a ittlelay ehay ouldcay eesay ishay rownbay elly,bay lightlysay omedday and ividedday ybay arches into tiffsay ections.say"
     ]
    }
   ],
   "source": [
    "He lay on his armour-like back, and if he lifted his head a little he could see his brown belly, slightly domed and divided by arches into stiff sections."
   ]
  },
  {
   "cell_type": "code",
   "execution_count": 3,
   "metadata": {},
   "outputs": [
    {
     "name": "stdout",
     "output_type": "stream",
     "text": [
      "hetay eddingbay asway ardlyhay able otay overcay it and eemedsay eadyray otay lidesay off any oment.may"
     ]
    }
   ],
   "source": [
    "The bedding was hardly able to cover it and seemed ready to slide off any moment."
   ]
  }
 ],
 "metadata": {
  "kernelspec": {
   "display_name": "Pig Latin",
   "language": "text",
   "name": "pig_latin"
  },
  "language_info": {
   "file_extension": ".txt",
   "mimetype": "text/plain",
   "name": "Arbitrary"
  }
 },
 "nbformat": 4,
 "nbformat_minor": 2
}
