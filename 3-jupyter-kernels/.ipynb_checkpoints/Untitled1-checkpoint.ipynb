{
 "cells": [
  {
   "cell_type": "code",
   "execution_count": null,
   "metadata": {
    "collapsed": true
   },
   "outputs": [],
   "source": [
    "This is a test."
   ]
  }
 ],
 "metadata": {
  "kernelspec": {
   "display_name": "Pig Latin",
   "language": "text",
   "name": "pig_latin"
  },
  "language_info": {
   "file_extension": ".txt",
   "mimetype": "text/plain",
   "name": "Arbitrary"
  }
 },
 "nbformat": 4,
 "nbformat_minor": 2
}
