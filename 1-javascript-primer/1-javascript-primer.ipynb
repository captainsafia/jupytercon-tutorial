{
  "cells": [
    {
      "cell_type": "markdown",
      "source": [
        "**Types**"
      ],
      "metadata": {}
    },
    {
      "cell_type": "code",
      "source": [
        "const _number = 1;\n",
        "const _string = \"a string\";\n",
        "const _boolean = false;"
      ],
      "outputs": [],
      "execution_count": 1,
      "metadata": {
        "collapsed": false,
        "outputHidden": false,
        "inputHidden": false
      }
    },
    {
      "cell_type": "code",
      "source": [
        "console.log(_number + 1);\n",
        "console.log(_string.substring(2, 5));\n",
        "console.log(!_boolean && _boolean);"
      ],
      "outputs": [],
      "execution_count": 2,
      "metadata": {
        "collapsed": false,
        "outputHidden": false,
        "inputHidden": false
      }
    },
    {
      "cell_type": "markdown",
      "source": [
        "**Variable Declarations**\n",
        "\nVariables defined using `const` cannot be changed."
      ],
      "metadata": {}
    },
    {
      "cell_type": "code",
      "source": [
        "const unchangeable = 1;"
      ],
      "outputs": [],
      "execution_count": 3,
      "metadata": {
        "collapsed": false,
        "outputHidden": false,
        "inputHidden": false
      }
    },
    {
      "cell_type": "code",
      "source": [
        "unchangeable = 2;"
      ],
      "outputs": [],
      "execution_count": 4,
      "metadata": {
        "collapsed": false,
        "outputHidden": false,
        "inputHidden": false
      }
    },
    {
      "cell_type": "markdown",
      "source": [
        "`let` and `var` work the same way in the global scope."
      ],
      "metadata": {}
    },
    {
      "cell_type": "code",
      "source": [
        "var _global_var = 1;\n",
        "let _global_let = 2;"
      ],
      "outputs": [],
      "execution_count": 5,
      "metadata": {
        "collapsed": false,
        "outputHidden": false,
        "inputHidden": false
      }
    },
    {
      "cell_type": "code",
      "source": [
        "console.log('_global_var:', _global_var)\n",
        "console.log('_global_let:', _global_let)"
      ],
      "outputs": [],
      "execution_count": 6,
      "metadata": {
        "collapsed": false,
        "outputHidden": false,
        "inputHidden": false
      }
    },
    {
      "cell_type": "markdown",
      "source": [
        "`let` and `var` work the same way at the function scope."
      ],
      "metadata": {}
    },
    {
      "cell_type": "code",
      "source": [
        "function scoped() {\n",
        "    let _func_var = 3;\n",
        "    let _func_let = 4;\n",
        "    console.log(_func_var);\n",
        "    console.log(_func_let);\n",
        "}\n",
        "\n",
        "console.log(_func_var);\n",
        "console.log(_func_let);"
      ],
      "outputs": [],
      "execution_count": 7,
      "metadata": {
        "collapsed": false,
        "outputHidden": false,
        "inputHidden": false
      }
    },
    {
      "cell_type": "markdown",
      "source": [
        "`let` and `var` work different in block scope, such as in for-loops and if-statements."
      ],
      "metadata": {}
    },
    {
      "cell_type": "code",
      "source": [
        "console.log('foo:', foo);\n",
        "for (let foo = 0; foo < 5; foo++) {\n",
        "    console.log('foo:', foo);\n",
        "}\n",
        "console.log('foo:', foo);"
      ],
      "outputs": [],
      "execution_count": 8,
      "metadata": {
        "collapsed": false,
        "outputHidden": false,
        "inputHidden": false
      }
    },
    {
      "cell_type": "code",
      "source": [
        "console.log('foo:', foo);\n",
        "for (var foo = 0; foo < 5; foo++) {\n",
        "    console.log('foo:', foo);\n",
        "}\n",
        "console.log('foo:', foo);"
      ],
      "outputs": [],
      "execution_count": 9,
      "metadata": {
        "collapsed": false,
        "outputHidden": false,
        "inputHidden": false
      }
    },
    {
      "cell_type": "markdown",
      "source": [
        "**Function Definitions**\n",
        "\nFunctions can be defined using the `function` keyword or using arrow functions."
      ],
      "metadata": {}
    },
    {
      "cell_type": "code",
      "source": [
        "function simple(parameter) {\n",
        "    console.log(parameter);\n",
        "}\n",
        "simple('test simple.');"
      ],
      "outputs": [],
      "execution_count": 26,
      "metadata": {
        "collapsed": false,
        "outputHidden": false,
        "inputHidden": false
      }
    },
    {
      "cell_type": "code",
      "source": [
        "let simpler = (parameter) => {\n",
        "    console.log(parameter);\n",
        "}\n",
        "simpler('test simpler.');"
      ],
      "outputs": [],
      "execution_count": 28,
      "metadata": {
        "collapsed": false,
        "outputHidden": false,
        "inputHidden": false
      }
    },
    {
      "cell_type": "markdown",
      "source": [
        "Arrow functions do not have access to `this` in objects."
      ],
      "metadata": {}
    },
    {
      "cell_type": "code",
      "source": [
        "var object = {\n",
        "    \"element\": \"an element\",\n",
        "    \"nonArrow\": function() {\n",
        "        console.log(this.element);\n",
        "    },\n",
        "    \"arrow\": () => {\n",
        "        console.log(this.element);\n",
        "    }\n",
        "};"
      ],
      "outputs": [],
      "execution_count": 1,
      "metadata": {
        "collapsed": false,
        "outputHidden": false,
        "inputHidden": false
      }
    },
    {
      "cell_type": "code",
      "source": [
        "object.nonArrow()\n",
        "object.arrow()"
      ],
      "outputs": [],
      "execution_count": 4,
      "metadata": {
        "collapsed": false,
        "outputHidden": false,
        "inputHidden": false
      }
    },
    {
      "cell_type": "markdown",
      "source": [
        "### Code Challenges\n",
        "\n**Write a function to get the last element in a list.**"
      ],
      "metadata": {}
    },
    {
      "cell_type": "code",
      "source": [
        "let test_list = [7, 8, 9, 4, 5, 6, 1, 2, 3];"
      ],
      "outputs": [],
      "execution_count": 11,
      "metadata": {
        "collapsed": false,
        "outputHidden": false,
        "inputHidden": false
      }
    },
    {
      "cell_type": "code",
      "source": [
        "let last = (list) => {\n",
        "    // Your solution here\n",
        "}"
      ],
      "outputs": [],
      "execution_count": 12,
      "metadata": {
        "collapsed": false,
        "outputHidden": false,
        "inputHidden": false
      }
    },
    {
      "cell_type": "code",
      "source": [
        "let result = last(test_list)\n",
        "assert(result == 3, \"last() method is implemented incorrectly.\")"
      ],
      "outputs": [],
      "execution_count": 14,
      "metadata": {
        "collapsed": false,
        "outputHidden": false,
        "inputHidden": false
      }
    },
    {
      "cell_type": "markdown",
      "source": [
        "**Solution**\n",
        "```\n",
        "let last = (list) => {\n",
        "    return list.pop();\n",
        "}\n",
        "```\n",
        "\n\n**Create a function that takes a number and returns a function that adds that number to a given parameter.**"
      ],
      "metadata": {
        "collapsed": false,
        "outputHidden": false,
        "inputHidden": false
      }
    },
    {
      "cell_type": "code",
      "source": [
        "let summer = (number) => {\n",
        "    // Your solution here\n",
        "}"
      ],
      "outputs": [],
      "execution_count": 15,
      "metadata": {
        "collapsed": false,
        "outputHidden": false,
        "inputHidden": false
      }
    },
    {
      "cell_type": "code",
      "source": [
        "assert(summer(3)(1) == 4, \"summer() method is implemented incorrectly.\")\n",
        "assert(summer(1)(1) == 2, \"summer() method is implemented incorrectly.\")"
      ],
      "outputs": [],
      "execution_count": 17,
      "metadata": {
        "collapsed": false,
        "outputHidden": false,
        "inputHidden": false
      }
    },
    {
      "cell_type": "markdown",
      "source": [
        "**Solution**\n",
        "```\n",
        "let summer = (number) => {\n",
        "    return (arg) => {\n",
        "        return number + arg;\n",
        "    }\n",
        "}\n",
        "```\n",
        "\n**Calculate the sum all numbers between 0 and 1000 that are multiples of 3 or 5.**"
      ],
      "metadata": {}
    },
    {
      "cell_type": "code",
      "source": [
        "let multipleSum = (limit) => {\n",
        "    // Your solution here\n",
        "}"
      ],
      "outputs": [],
      "execution_count": 20,
      "metadata": {
        "collapsed": false,
        "outputHidden": false,
        "inputHidden": false
      }
    },
    {
      "cell_type": "code",
      "source": [
        "assert(multipleSum(1000) == 233168, \"multipleSum() method is implemented incorrectly.\")\n"
      ],
      "outputs": [],
      "execution_count": 21,
      "metadata": {
        "collapsed": false,
        "outputHidden": false,
        "inputHidden": false
      }
    },
    {
      "cell_type": "markdown",
      "source": [
        "**Solution**\n",
        "```\n",
        "let multipleSum = (limit) => {\n",
        "    let sum = 0;\n",
        "    for (let i = 3; i < limit; i++) {\n",
        "        if (i % 3 === 0 || i % 5 === 0) {\n",
        "            sum += i;\n",
        "        }\n",
        "    }\n",
        "    return sum;\n",
        "}\n",
        "```\n",
        "\n**Calculate the sum of all the even Fibonacii numbers below 4 million.**"
      ],
      "metadata": {}
    },
    {
      "cell_type": "code",
      "source": [
        "let evenFibSum = (limit) => {\n",
        "    // Your solution here\n",
        "}"
      ],
      "outputs": [],
      "execution_count": 1,
      "metadata": {
        "collapsed": false,
        "outputHidden": false,
        "inputHidden": false
      }
    },
    {
      "cell_type": "code",
      "source": [
        "assert(evenFibSum(4000000) === 4613732, \"evenFibSum() is implemented incorrectly.\")\n"
      ],
      "outputs": [],
      "execution_count": 4,
      "metadata": {
        "collapsed": false,
        "outputHidden": false,
        "inputHidden": false
      }
    },
    {
      "cell_type": "markdown",
      "source": [
        "**Solution**\n",
        "\n",
        "```\n",
        "let evenFibSum = (limit) => {\n",
        "    const fib = [1, 2];\n",
        "    let sum = 0;\n",
        "    \n",
        "    while (fib[fib.length - 1] < limit) {\n",
        "        fib.push(fib[fib.length - 1] + fib[fib.length - 2]);\n",
        "    }\n",
        "    \n",
        "    fib.forEach((n) => {\n",
        "       if (n % 2 === 0) sum += n; \n",
        "    });\n",
        "    return sum;\n",
        "}\n",
        "```"
      ],
      "metadata": {}
    }
  ],
  "metadata": {
    "kernelspec": {
      "name": "node_nteract",
      "language": "javascript",
      "display_name": "Node.js (nteract)"
    },
    "kernel_info": {
      "name": "node_nteract"
    },
    "language_info": {
      "name": "javascript",
      "version": "7.9.0",
      "mimetype": "application/javascript",
      "file_extension": ".js"
    },
    "nteract": {
      "version": "0.2.0"
    }
  },
  "nbformat": 4,
  "nbformat_minor": 4
}